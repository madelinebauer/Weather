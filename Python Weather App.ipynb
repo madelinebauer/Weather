{
 "cells": [
  {
   "cell_type": "code",
   "execution_count": 1,
   "metadata": {},
   "outputs": [],
   "source": [
    "import requests"
   ]
  },
  {
   "cell_type": "code",
   "execution_count": 2,
   "metadata": {},
   "outputs": [],
   "source": [
    "api_address = \"http://api.openweathermap.org/data/2.5/weather?appid=0dd33d6ed066c80920162b0d3749e1e5&q=\""
   ]
  },
  {
   "cell_type": "code",
   "execution_count": 3,
   "metadata": {},
   "outputs": [
    {
     "name": "stdout",
     "output_type": "stream",
     "text": [
      "Welcome to the Weather App!\n",
      " \n",
      "\n",
      "Please enter a city name or 'q' to quit. \n",
      "Sheboygan\n",
      "Please enter the full state name. \n",
      "Wisconsin\n",
      "Your connection was successful! \n",
      "\n",
      "---------------------------------------\n",
      "Current Weather Conditions for SHEBOYGAN, WISCONSIN, US\n",
      "Current Temperature: 84.88°F\n",
      "Feels Like Temperature: 89.04°F\n",
      "Today's High Temp: 87.78°F\n",
      "Today's Low Temp: 81.19°F\n",
      "Humidity: 60%\n",
      "Wind Speed: 3mph\n",
      "---------------------------------------\n",
      "Please enter a city name or 'q' to quit. \n",
      "Cedarburg\n",
      "Please enter the full state name. \n",
      "Wisconsin\n",
      "Your connection was successful! \n",
      "\n",
      "---------------------------------------\n",
      "Current Weather Conditions for CEDARBURG, WISCONSIN, US\n",
      "Current Temperature: 84.83°F\n",
      "Feels Like Temperature: 89.56°F\n",
      "Today's High Temp: 87.84°F\n",
      "Today's Low Temp: 82.54°F\n",
      "Humidity: 62%\n",
      "Wind Speed: 1.01mph\n",
      "---------------------------------------\n",
      "Please enter a city name or 'q' to quit. \n",
      "q\n",
      "\n",
      "\n",
      "Thanks for using my app. Come back to check the weather soon!\n"
     ]
    }
   ],
   "source": [
    "def weather(city, state, url):\n",
    "    # Gets weather from website, checks the connection status, and displays weather data for user\n",
    "    r = requests.get(\"https://openweathermap.org\")\n",
    "    try:\n",
    "        r = requests.get(url)\n",
    "        r.raise_for_status()\n",
    "    except requests.exceptions.HTTPError as e:\n",
    "        print('Something went wrong: ', e)\n",
    "        main()\n",
    "    else:\n",
    "        print('Your connection was successful! \\n')\n",
    "    json_data = requests.get(url).json()\n",
    "    #print(json_data)                           # JSON formatted data that should not be printed for user\n",
    "    country = json_data['sys']['country']\n",
    "    temp = json_data['main']['temp']\n",
    "    feels = json_data['main']['feels_like']\n",
    "    minTemp = json_data['main']['temp_min']\n",
    "    maxTemp = json_data['main']['temp_max']\n",
    "    humidity = json_data['main']['humidity']\n",
    "    wind = json_data['wind']['speed']\n",
    "    symbol = '\\xb0' + 'F'                       # degrees Fahrenheit\n",
    "    print('---------------------------------------')\n",
    "    print(\"Current Weather Conditions for {}, {}, {}\".format(city, state, country))\n",
    "    print(\"Current Temperature: \" + str(temp) + symbol)\n",
    "    print(\"Feels Like Temperature: \" + str(feels) + symbol)\n",
    "    print(\"Today's High Temp: \" + str(maxTemp) + symbol)\n",
    "    print(\"Today's Low Temp: \" + str(minTemp) + symbol)\n",
    "    print(\"Humidity: \" + str(humidity) + \"%\")\n",
    "    print(\"Wind Speed: \" + str(wind) + \"mph\")\n",
    "    print('---------------------------------------')\n",
    "\n",
    "\n",
    "def main():\n",
    "    print(\"Welcome to the Weather App!\\n \\n\")\n",
    "    # Set initial value for user city\n",
    "    city = ' '\n",
    "    while city != \"Q\":\n",
    "        city = input(\"Please enter a city name or \\'q\\' to quit. \\n\").upper()\n",
    "        # state = input(\"Please enter the state or \\'q\\' to quit. \\n\").upper()\n",
    "        if city == \"Q\":\n",
    "            # End user's experience with app\n",
    "            print(\"\\n\\nThanks for using my app. Come back to check the weather soon!\")\n",
    "            break\n",
    "        else:\n",
    "            # Construct the URL and call weather function\n",
    "            state = input(\"Please enter the full state name. \\n\").upper()\n",
    "            url = api_address + city + \",\" + state + \"&units=imperial\"\n",
    "            weather(city, state, url)\n",
    "\n",
    "\n",
    "main()"
   ]
  },
  {
   "cell_type": "code",
   "execution_count": null,
   "metadata": {},
   "outputs": [],
   "source": []
  }
 ],
 "metadata": {
  "kernelspec": {
   "display_name": "Python 3",
   "language": "python",
   "name": "python3"
  },
  "language_info": {
   "codemirror_mode": {
    "name": "ipython",
    "version": 3
   },
   "file_extension": ".py",
   "mimetype": "text/x-python",
   "name": "python",
   "nbconvert_exporter": "python",
   "pygments_lexer": "ipython3",
   "version": "3.7.6"
  }
 },
 "nbformat": 4,
 "nbformat_minor": 4
}
